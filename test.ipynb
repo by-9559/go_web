{
 "cells": [
  {
   "cell_type": "code",
   "execution_count": 1,
   "metadata": {},
   "outputs": [
    {
     "name": "stdout",
     "output_type": "stream",
     "text": [
      "Received: Hello, client!\n"
     ]
    }
   ],
   "source": [
    "import socket\n",
    "\n",
    "# 创建一个 TCP 连接\n",
    "HOST = 'localhost'\n",
    "PORT = 8080\n",
    "sock = socket.socket(socket.AF_INET, socket.SOCK_STREAM)\n",
    "sock.connect((HOST, PORT))\n",
    "\n",
    "# 向 TCP 服务器发送消息\n",
    "message = 'Hello, TCP server!'\n",
    "sock.sendall(message.encode())\n",
    "\n",
    "# 接收 TCP 服务器的响应\n",
    "data = sock.recv(1024)\n",
    "print('Received:', data.decode())\n",
    "\n",
    "# 关闭 TCP 连接\n",
    "\n"
   ]
  }
 ],
 "metadata": {
  "kernelspec": {
   "display_name": "Python 3",
   "language": "python",
   "name": "python3"
  },
  "language_info": {
   "codemirror_mode": {
    "name": "ipython",
    "version": 3
   },
   "file_extension": ".py",
   "mimetype": "text/x-python",
   "name": "python",
   "nbconvert_exporter": "python",
   "pygments_lexer": "ipython3",
   "version": "3.9.2"
  },
  "orig_nbformat": 4
 },
 "nbformat": 4,
 "nbformat_minor": 2
}

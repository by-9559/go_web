{
 "cells": [
  {
   "cell_type": "code",
   "execution_count": 2,
   "metadata": {},
   "outputs": [
    {
     "name": "stdout",
     "output_type": "stream",
     "text": [
      "Received: Hello, client! 113.110.242.193:60828\n",
      "Received: 123\n",
      "Received: 32434\n",
      "Received: 12312\n",
      "Received: 4234\n",
      "Received: 12312\n",
      "Received: 23423\n",
      "Received: 12312\n",
      "Received: 12312\n"
     ]
    },
    {
     "ename": "KeyboardInterrupt",
     "evalue": "",
     "output_type": "error",
     "traceback": [
      "\u001b[0;31m---------------------------------------------------------------------------\u001b[0m",
      "\u001b[0;31mKeyboardInterrupt\u001b[0m                         Traceback (most recent call last)",
      "Cell \u001b[0;32mIn[2], line 16\u001b[0m\n\u001b[1;32m     13\u001b[0m \u001b[38;5;66;03m# 接收 TCP 服务器的响应\u001b[39;00m\n\u001b[1;32m     15\u001b[0m \u001b[38;5;28;01mwhile\u001b[39;00m \u001b[38;5;28;01mTrue\u001b[39;00m :\n\u001b[0;32m---> 16\u001b[0m     data \u001b[38;5;241m=\u001b[39m \u001b[43msock\u001b[49m\u001b[38;5;241;43m.\u001b[39;49m\u001b[43mrecv\u001b[49m\u001b[43m(\u001b[49m\u001b[38;5;241;43m1024\u001b[39;49m\u001b[43m)\u001b[49m\n\u001b[1;32m     17\u001b[0m     \u001b[38;5;28mprint\u001b[39m(\u001b[38;5;124m'\u001b[39m\u001b[38;5;124mReceived:\u001b[39m\u001b[38;5;124m'\u001b[39m, data\u001b[38;5;241m.\u001b[39mdecode())\n\u001b[1;32m     19\u001b[0m \u001b[38;5;66;03m# 关闭 TCP 连接\u001b[39;00m\n\u001b[1;32m     20\u001b[0m \u001b[38;5;66;03m# sock.close()\u001b[39;00m\n",
      "\u001b[0;31mKeyboardInterrupt\u001b[0m: "
     ]
    }
   ],
   "source": [
    "import socket\n",
    "\n",
    "# 创建一个 TCP 连接\n",
    "HOST = \"120.77.79.24\"\n",
    "PORT = 38082\n",
    "sock = socket.socket(socket.AF_INET, socket.SOCK_STREAM)\n",
    "sock.connect((HOST, PORT))\n",
    "\n",
    "# 向 TCP 服务器发送消息\n",
    "message = 'L1'\n",
    "sock.sendall(message.encode())\n",
    "\n",
    "# 接收 TCP 服务器的响应\n",
    "\n",
    "while True :\n",
    "    data = sock.recv(1024)\n",
    "    print('Received:', data.decode())\n",
    "\n",
    "# 关闭 TCP 连接\n",
    "# sock.close()\n"
   ]
  },
  {
   "cell_type": "markdown",
   "metadata": {},
   "source": [
    "source ./load_env.sh"
   ]
  }
 ],
 "metadata": {
  "kernelspec": {
   "display_name": "Python 3",
   "language": "python",
   "name": "python3"
  },
  "language_info": {
   "codemirror_mode": {
    "name": "ipython",
    "version": 3
   },
   "file_extension": ".py",
   "mimetype": "text/x-python",
   "name": "python",
   "nbconvert_exporter": "python",
   "pygments_lexer": "ipython3",
   "version": "3.10.12"
  },
  "orig_nbformat": 4
 },
 "nbformat": 4,
 "nbformat_minor": 2
}
